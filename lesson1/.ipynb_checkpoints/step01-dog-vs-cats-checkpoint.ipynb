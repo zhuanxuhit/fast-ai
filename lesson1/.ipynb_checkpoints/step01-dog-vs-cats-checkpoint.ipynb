{
 "cells": [
  {
   "cell_type": "markdown",
   "metadata": {},
   "source": [
    "## Kaggle 大赛之猫狗大战\n",
    "前段时间学完了 Udacity 的深度学习基石课程，内容挺好，但是就是缺乏实战，于是找到了 fast.ai 的课程，准备进入 kaggle 大赛来检验下自己的学习成果，这是 kaggle 大赛第一步：入门。\n",
    "\n",
    "在这之前自己看了好几天的资料了，按照fast.ai第一课的视屏做了下，中途遇到了好多问题，最后有了本文，本文使用环境说明\n",
    "\n",
    "1. tensorflow作为keras的后端\n",
    "2. keras的版本2.*\n",
    "\n",
    "本文的工作流：\n",
    "\n",
    "1. 数据下载\n",
    "2. 按目录整理好数据\n",
    "3. 创建vgg model\n",
    "4. 训练模型\n",
    "5. 预测\n",
    "6. 评价\n",
    "7. 提交"
   ]
  },
  {
   "cell_type": "markdown",
   "metadata": {},
   "source": [
    "## 数据准备\n",
    "使用kaggle cli下载需要的数据，并且通过下面的命令将数据按目录组织好"
   ]
  },
  {
   "cell_type": "code",
   "execution_count": null,
   "metadata": {
    "collapsed": true
   },
   "outputs": [],
   "source": []
  },
  {
   "cell_type": "markdown",
   "metadata": {},
   "source": [
    "## 附录\n",
    "### kaggle cli\n",
    "[kaggle cli](http://wiki.fast.ai/index.php/Kaggle_CLI)\n",
    "需要注意的是在下载具体的数据的时候，需要同意数据协议\n",
    "\n",
    "### github ssh-key\n",
    "```\n",
    "ssh-keygen -t rsa -C \"893051481@qq.com\"\n",
    "将 id_rsa.pub放到github上\n",
    "```"
   ]
  },
  {
   "cell_type": "code",
   "execution_count": null,
   "metadata": {
    "collapsed": true
   },
   "outputs": [],
   "source": []
  }
 ],
 "metadata": {
  "kernelspec": {
   "display_name": "Python 3",
   "language": "python",
   "name": "python3"
  },
  "language_info": {
   "codemirror_mode": {
    "name": "ipython",
    "version": 3
   },
   "file_extension": ".py",
   "mimetype": "text/x-python",
   "name": "python",
   "nbconvert_exporter": "python",
   "pygments_lexer": "ipython3",
   "version": "3.6.1"
  }
 },
 "nbformat": 4,
 "nbformat_minor": 2
}
